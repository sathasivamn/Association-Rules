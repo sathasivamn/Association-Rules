{
  "nbformat": 4,
  "nbformat_minor": 0,
  "metadata": {
    "colab": {
      "provenance": [],
      "authorship_tag": "ABX9TyOcgXmg2Ez1+ngKyl4587dv",
      "include_colab_link": true
    },
    "kernelspec": {
      "name": "python3",
      "display_name": "Python 3"
    },
    "language_info": {
      "name": "python"
    }
  },
  "cells": [
    {
      "cell_type": "markdown",
      "metadata": {
        "id": "view-in-github",
        "colab_type": "text"
      },
      "source": [
        "<a href=\"https://colab.research.google.com/github/sathasivamn/Association-Rules/blob/main/Assignment_10_Association_Rules.ipynb\" target=\"_parent\"><img src=\"https://colab.research.google.com/assets/colab-badge.svg\" alt=\"Open In Colab\"/></a>"
      ]
    },
    {
      "cell_type": "markdown",
      "source": [
        "# Association Rules\n",
        "## Data Preprocessing\n",
        "## Implementing Association Rule Mining (Apriori Algorithm)\n",
        "## Analyzing and Interpreting Rules\n",
        "## Answering Interview Questions"
      ],
      "metadata": {
        "id": "NHKRI_7TDkBe"
      }
    },
    {
      "cell_type": "code",
      "execution_count": 2,
      "metadata": {
        "colab": {
          "base_uri": "https://localhost:8080/"
        },
        "id": "FaImUXZRDamG",
        "outputId": "6bc9fb91-8781-4792-b3ce-e963c7713c46"
      },
      "outputs": [
        {
          "output_type": "stream",
          "name": "stdout",
          "text": [
            "Requirement already satisfied: mlxtend in /usr/local/lib/python3.11/dist-packages (0.23.4)\n",
            "Requirement already satisfied: openpyxl in /usr/local/lib/python3.11/dist-packages (3.1.5)\n",
            "Requirement already satisfied: scipy>=1.2.1 in /usr/local/lib/python3.11/dist-packages (from mlxtend) (1.14.1)\n",
            "Requirement already satisfied: numpy>=1.16.2 in /usr/local/lib/python3.11/dist-packages (from mlxtend) (2.0.2)\n",
            "Requirement already satisfied: pandas>=0.24.2 in /usr/local/lib/python3.11/dist-packages (from mlxtend) (2.2.2)\n",
            "Requirement already satisfied: scikit-learn>=1.3.1 in /usr/local/lib/python3.11/dist-packages (from mlxtend) (1.6.1)\n",
            "Requirement already satisfied: matplotlib>=3.0.0 in /usr/local/lib/python3.11/dist-packages (from mlxtend) (3.10.0)\n",
            "Requirement already satisfied: joblib>=0.13.2 in /usr/local/lib/python3.11/dist-packages (from mlxtend) (1.4.2)\n",
            "Requirement already satisfied: et-xmlfile in /usr/local/lib/python3.11/dist-packages (from openpyxl) (2.0.0)\n",
            "Requirement already satisfied: contourpy>=1.0.1 in /usr/local/lib/python3.11/dist-packages (from matplotlib>=3.0.0->mlxtend) (1.3.1)\n",
            "Requirement already satisfied: cycler>=0.10 in /usr/local/lib/python3.11/dist-packages (from matplotlib>=3.0.0->mlxtend) (0.12.1)\n",
            "Requirement already satisfied: fonttools>=4.22.0 in /usr/local/lib/python3.11/dist-packages (from matplotlib>=3.0.0->mlxtend) (4.56.0)\n",
            "Requirement already satisfied: kiwisolver>=1.3.1 in /usr/local/lib/python3.11/dist-packages (from matplotlib>=3.0.0->mlxtend) (1.4.8)\n",
            "Requirement already satisfied: packaging>=20.0 in /usr/local/lib/python3.11/dist-packages (from matplotlib>=3.0.0->mlxtend) (24.2)\n",
            "Requirement already satisfied: pillow>=8 in /usr/local/lib/python3.11/dist-packages (from matplotlib>=3.0.0->mlxtend) (11.1.0)\n",
            "Requirement already satisfied: pyparsing>=2.3.1 in /usr/local/lib/python3.11/dist-packages (from matplotlib>=3.0.0->mlxtend) (3.2.3)\n",
            "Requirement already satisfied: python-dateutil>=2.7 in /usr/local/lib/python3.11/dist-packages (from matplotlib>=3.0.0->mlxtend) (2.8.2)\n",
            "Requirement already satisfied: pytz>=2020.1 in /usr/local/lib/python3.11/dist-packages (from pandas>=0.24.2->mlxtend) (2025.2)\n",
            "Requirement already satisfied: tzdata>=2022.7 in /usr/local/lib/python3.11/dist-packages (from pandas>=0.24.2->mlxtend) (2025.2)\n",
            "Requirement already satisfied: threadpoolctl>=3.1.0 in /usr/local/lib/python3.11/dist-packages (from scikit-learn>=1.3.1->mlxtend) (3.6.0)\n",
            "Requirement already satisfied: six>=1.5 in /usr/local/lib/python3.11/dist-packages (from python-dateutil>=2.7->matplotlib>=3.0.0->mlxtend) (1.17.0)\n"
          ]
        }
      ],
      "source": [
        "# Install necessary libraries\n",
        "!pip install mlxtend openpyxl"
      ]
    },
    {
      "cell_type": "code",
      "source": [
        "# Import required libraries\n",
        "import pandas as pd\n",
        "import numpy as np\n",
        "import matplotlib.pyplot as plt\n",
        "import seaborn as sns\n",
        "from mlxtend.frequent_patterns import apriori, association_rules\n",
        "from mlxtend.preprocessing import TransactionEncoder"
      ],
      "metadata": {
        "id": "ALDzRSJxD79K"
      },
      "execution_count": 3,
      "outputs": []
    },
    {
      "cell_type": "code",
      "source": [
        "# Load dataset\n",
        "df = pd.read_excel(\"Online retail.xlsx\")"
      ],
      "metadata": {
        "id": "p0TxklQ2ES66"
      },
      "execution_count": 4,
      "outputs": []
    },
    {
      "cell_type": "code",
      "source": [
        "# Display first few rows\n",
        "print(\"Dataset Preview:\\n\", df.head())"
      ],
      "metadata": {
        "colab": {
          "base_uri": "https://localhost:8080/"
        },
        "id": "VbQaT3-TEjwE",
        "outputId": "6c73b0c7-1b40-4c78-9fb5-b08353f9a49f"
      },
      "execution_count": 5,
      "outputs": [
        {
          "output_type": "stream",
          "name": "stdout",
          "text": [
            "Dataset Preview:\n",
            "   shrimp,almonds,avocado,vegetables mix,green grapes,whole weat flour,yams,cottage cheese,energy drink,tomato juice,low fat yogurt,green tea,honey,salad,mineral water,salmon,antioxydant juice,frozen smoothie,spinach,olive oil\n",
            "0                             burgers,meatballs,eggs                                                                                                                                                                             \n",
            "1                                            chutney                                                                                                                                                                             \n",
            "2                                     turkey,avocado                                                                                                                                                                             \n",
            "3  mineral water,milk,energy bar,whole wheat rice...                                                                                                                                                                             \n",
            "4                                     low fat yogurt                                                                                                                                                                             \n"
          ]
        }
      ]
    },
    {
      "cell_type": "markdown",
      "source": [
        "# Preprocess the data\n",
        "\n",
        "## Convert transactions into a list of lists.\n",
        "## Perform one-hot encoding (convert items to a binary matrix format)."
      ],
      "metadata": {
        "id": "oD8_7-jlK5hb"
      }
    },
    {
      "cell_type": "code",
      "source": [
        "# Data Preprocessing\n",
        "\n",
        "# Convert the single column of items to a list of lists\n",
        "transactions = df.iloc[:, 0].dropna().apply(lambda x: x.split(','))"
      ],
      "metadata": {
        "id": "pZqojn1TZILc"
      },
      "execution_count": 22,
      "outputs": []
    },
    {
      "cell_type": "code",
      "source": [
        "# One-hot encode the transaction data\n",
        "te = TransactionEncoder()\n",
        "te_ary = te.fit(transactions).transform(transactions)\n",
        "df_encoded = pd.DataFrame(te_ary, columns=te.columns_)"
      ],
      "metadata": {
        "id": "8MZKS6e3FVSb"
      },
      "execution_count": 23,
      "outputs": []
    },
    {
      "cell_type": "markdown",
      "source": [
        "# Apply Apriori algorithm:\n",
        "## Use mlxtend to find frequent itemsets.\n",
        "## Generate association rules based on support, confidence, and lift."
      ],
      "metadata": {
        "id": "W9iSMN3YK_60"
      }
    },
    {
      "cell_type": "code",
      "source": [
        "# Applying Apriori Algorithm\n",
        "\n",
        "# Generate frequent itemsets with min_support=0.01 (1% of transactions)\n",
        "frequent_itemsets = apriori(df_encoded, min_support=0.01, use_colnames=True)"
      ],
      "metadata": {
        "id": "vnQ7BBy2HRRU"
      },
      "execution_count": 24,
      "outputs": []
    },
    {
      "cell_type": "code",
      "source": [
        "# Generate frequent itemsets using Apriori algorithm\n",
        "frequent_itemsets = apriori(df_encoded, min_support=0.02, use_colnames=True)"
      ],
      "metadata": {
        "id": "Ce1WaSsuFYvA"
      },
      "execution_count": 25,
      "outputs": []
    },
    {
      "cell_type": "code",
      "source": [
        "# Generate association rules with min_confidence=0.2 (20%)\n",
        "rules = association_rules(frequent_itemsets, metric=\"confidence\", min_threshold=0.2)"
      ],
      "metadata": {
        "id": "DpmcJv0EII-C"
      },
      "execution_count": 26,
      "outputs": []
    },
    {
      "cell_type": "code",
      "source": [
        "# Sort by Lift (to find the most meaningful rules)\n",
        "rules_sorted = rules.sort_values(by=\"lift\", ascending=False)"
      ],
      "metadata": {
        "id": "Jv7ddWAZIQAQ"
      },
      "execution_count": 27,
      "outputs": []
    },
    {
      "cell_type": "code",
      "source": [
        "# Generate association rules\n",
        "rules = association_rules(frequent_itemsets, metric=\"lift\", min_threshold=1.0)"
      ],
      "metadata": {
        "id": "TRiwVLcRIWnG"
      },
      "execution_count": 28,
      "outputs": []
    },
    {
      "cell_type": "code",
      "source": [
        "# Display top rules sorted by lift\n",
        "rules.sort_values(by=\"lift\", ascending=False).head(10)"
      ],
      "metadata": {
        "colab": {
          "base_uri": "https://localhost:8080/",
          "height": 554
        },
        "id": "Mkr6b8pIFdUz",
        "outputId": "5116b882-ccf0-4b48-eba3-3c2171b4c262"
      },
      "execution_count": 29,
      "outputs": [
        {
          "output_type": "execute_result",
          "data": {
            "text/plain": [
              "                      antecedents                   consequents  \\\n",
              "123                 (ground beef)               (herb & pepper)   \n",
              "122               (herb & pepper)                 (ground beef)   \n",
              "205    (spaghetti, mineral water)                 (ground beef)   \n",
              "208                 (ground beef)    (spaghetti, mineral water)   \n",
              "114                    (tomatoes)           (frozen vegetables)   \n",
              "115           (frozen vegetables)                    (tomatoes)   \n",
              "110                      (shrimp)           (frozen vegetables)   \n",
              "111           (frozen vegetables)                      (shrimp)   \n",
              "207                   (spaghetti)  (ground beef, mineral water)   \n",
              "206  (ground beef, mineral water)                   (spaghetti)   \n",
              "\n",
              "     antecedent support  consequent support   support  confidence      lift  \\\n",
              "123            0.135845            0.066473  0.022802    0.167852  2.525100   \n",
              "122            0.066473            0.135845  0.022802    0.343023  2.525100   \n",
              "205            0.085024            0.135845  0.024734    0.290909  2.141472   \n",
              "208            0.135845            0.085024  0.024734    0.182077  2.141472   \n",
              "114            0.091981            0.129855  0.022609    0.245798  1.892867   \n",
              "115            0.129855            0.091981  0.022609    0.174107  1.892867   \n",
              "110            0.098744            0.129855  0.023768    0.240705  1.853640   \n",
              "111            0.129855            0.098744  0.023768    0.183036  1.853640   \n",
              "207            0.229565            0.058744  0.024734    0.107744  1.834131   \n",
              "206            0.058744            0.229565  0.024734    0.421053  1.834131   \n",
              "\n",
              "     representativity  leverage  conviction  zhangs_metric   jaccard  \\\n",
              "123               1.0  0.013772    1.121828       0.698921  0.127018   \n",
              "122               1.0  0.013772    1.315350       0.646983  0.127018   \n",
              "205               1.0  0.013184    1.218680       0.582563  0.126108   \n",
              "208               1.0  0.013184    1.118657       0.616824  0.126108   \n",
              "114               1.0  0.010665    1.153730       0.519483  0.113482   \n",
              "115               1.0  0.010665    1.099440       0.542094  0.113482   \n",
              "110               1.0  0.010946    1.145990       0.510977  0.116038   \n",
              "111               1.0  0.010946    1.103177       0.529246  0.116038   \n",
              "207               1.0  0.011249    1.054917       0.590293  0.093842   \n",
              "206               1.0  0.011249    1.330751       0.483166  0.093842   \n",
              "\n",
              "     certainty  kulczynski  \n",
              "123   0.108597    0.255438  \n",
              "122   0.239746    0.255438  \n",
              "205   0.179440    0.236493  \n",
              "208   0.106071    0.236493  \n",
              "114   0.133246    0.209953  \n",
              "115   0.090446    0.209953  \n",
              "110   0.127392    0.211870  \n",
              "111   0.093527    0.211870  \n",
              "207   0.052058    0.264398  \n",
              "206   0.248545    0.264398  "
            ],
            "text/html": [
              "\n",
              "  <div id=\"df-1c79ae0f-a40a-4364-856c-56c980e2eded\" class=\"colab-df-container\">\n",
              "    <div>\n",
              "<style scoped>\n",
              "    .dataframe tbody tr th:only-of-type {\n",
              "        vertical-align: middle;\n",
              "    }\n",
              "\n",
              "    .dataframe tbody tr th {\n",
              "        vertical-align: top;\n",
              "    }\n",
              "\n",
              "    .dataframe thead th {\n",
              "        text-align: right;\n",
              "    }\n",
              "</style>\n",
              "<table border=\"1\" class=\"dataframe\">\n",
              "  <thead>\n",
              "    <tr style=\"text-align: right;\">\n",
              "      <th></th>\n",
              "      <th>antecedents</th>\n",
              "      <th>consequents</th>\n",
              "      <th>antecedent support</th>\n",
              "      <th>consequent support</th>\n",
              "      <th>support</th>\n",
              "      <th>confidence</th>\n",
              "      <th>lift</th>\n",
              "      <th>representativity</th>\n",
              "      <th>leverage</th>\n",
              "      <th>conviction</th>\n",
              "      <th>zhangs_metric</th>\n",
              "      <th>jaccard</th>\n",
              "      <th>certainty</th>\n",
              "      <th>kulczynski</th>\n",
              "    </tr>\n",
              "  </thead>\n",
              "  <tbody>\n",
              "    <tr>\n",
              "      <th>123</th>\n",
              "      <td>(ground beef)</td>\n",
              "      <td>(herb &amp; pepper)</td>\n",
              "      <td>0.135845</td>\n",
              "      <td>0.066473</td>\n",
              "      <td>0.022802</td>\n",
              "      <td>0.167852</td>\n",
              "      <td>2.525100</td>\n",
              "      <td>1.0</td>\n",
              "      <td>0.013772</td>\n",
              "      <td>1.121828</td>\n",
              "      <td>0.698921</td>\n",
              "      <td>0.127018</td>\n",
              "      <td>0.108597</td>\n",
              "      <td>0.255438</td>\n",
              "    </tr>\n",
              "    <tr>\n",
              "      <th>122</th>\n",
              "      <td>(herb &amp; pepper)</td>\n",
              "      <td>(ground beef)</td>\n",
              "      <td>0.066473</td>\n",
              "      <td>0.135845</td>\n",
              "      <td>0.022802</td>\n",
              "      <td>0.343023</td>\n",
              "      <td>2.525100</td>\n",
              "      <td>1.0</td>\n",
              "      <td>0.013772</td>\n",
              "      <td>1.315350</td>\n",
              "      <td>0.646983</td>\n",
              "      <td>0.127018</td>\n",
              "      <td>0.239746</td>\n",
              "      <td>0.255438</td>\n",
              "    </tr>\n",
              "    <tr>\n",
              "      <th>205</th>\n",
              "      <td>(spaghetti, mineral water)</td>\n",
              "      <td>(ground beef)</td>\n",
              "      <td>0.085024</td>\n",
              "      <td>0.135845</td>\n",
              "      <td>0.024734</td>\n",
              "      <td>0.290909</td>\n",
              "      <td>2.141472</td>\n",
              "      <td>1.0</td>\n",
              "      <td>0.013184</td>\n",
              "      <td>1.218680</td>\n",
              "      <td>0.582563</td>\n",
              "      <td>0.126108</td>\n",
              "      <td>0.179440</td>\n",
              "      <td>0.236493</td>\n",
              "    </tr>\n",
              "    <tr>\n",
              "      <th>208</th>\n",
              "      <td>(ground beef)</td>\n",
              "      <td>(spaghetti, mineral water)</td>\n",
              "      <td>0.135845</td>\n",
              "      <td>0.085024</td>\n",
              "      <td>0.024734</td>\n",
              "      <td>0.182077</td>\n",
              "      <td>2.141472</td>\n",
              "      <td>1.0</td>\n",
              "      <td>0.013184</td>\n",
              "      <td>1.118657</td>\n",
              "      <td>0.616824</td>\n",
              "      <td>0.126108</td>\n",
              "      <td>0.106071</td>\n",
              "      <td>0.236493</td>\n",
              "    </tr>\n",
              "    <tr>\n",
              "      <th>114</th>\n",
              "      <td>(tomatoes)</td>\n",
              "      <td>(frozen vegetables)</td>\n",
              "      <td>0.091981</td>\n",
              "      <td>0.129855</td>\n",
              "      <td>0.022609</td>\n",
              "      <td>0.245798</td>\n",
              "      <td>1.892867</td>\n",
              "      <td>1.0</td>\n",
              "      <td>0.010665</td>\n",
              "      <td>1.153730</td>\n",
              "      <td>0.519483</td>\n",
              "      <td>0.113482</td>\n",
              "      <td>0.133246</td>\n",
              "      <td>0.209953</td>\n",
              "    </tr>\n",
              "    <tr>\n",
              "      <th>115</th>\n",
              "      <td>(frozen vegetables)</td>\n",
              "      <td>(tomatoes)</td>\n",
              "      <td>0.129855</td>\n",
              "      <td>0.091981</td>\n",
              "      <td>0.022609</td>\n",
              "      <td>0.174107</td>\n",
              "      <td>1.892867</td>\n",
              "      <td>1.0</td>\n",
              "      <td>0.010665</td>\n",
              "      <td>1.099440</td>\n",
              "      <td>0.542094</td>\n",
              "      <td>0.113482</td>\n",
              "      <td>0.090446</td>\n",
              "      <td>0.209953</td>\n",
              "    </tr>\n",
              "    <tr>\n",
              "      <th>110</th>\n",
              "      <td>(shrimp)</td>\n",
              "      <td>(frozen vegetables)</td>\n",
              "      <td>0.098744</td>\n",
              "      <td>0.129855</td>\n",
              "      <td>0.023768</td>\n",
              "      <td>0.240705</td>\n",
              "      <td>1.853640</td>\n",
              "      <td>1.0</td>\n",
              "      <td>0.010946</td>\n",
              "      <td>1.145990</td>\n",
              "      <td>0.510977</td>\n",
              "      <td>0.116038</td>\n",
              "      <td>0.127392</td>\n",
              "      <td>0.211870</td>\n",
              "    </tr>\n",
              "    <tr>\n",
              "      <th>111</th>\n",
              "      <td>(frozen vegetables)</td>\n",
              "      <td>(shrimp)</td>\n",
              "      <td>0.129855</td>\n",
              "      <td>0.098744</td>\n",
              "      <td>0.023768</td>\n",
              "      <td>0.183036</td>\n",
              "      <td>1.853640</td>\n",
              "      <td>1.0</td>\n",
              "      <td>0.010946</td>\n",
              "      <td>1.103177</td>\n",
              "      <td>0.529246</td>\n",
              "      <td>0.116038</td>\n",
              "      <td>0.093527</td>\n",
              "      <td>0.211870</td>\n",
              "    </tr>\n",
              "    <tr>\n",
              "      <th>207</th>\n",
              "      <td>(spaghetti)</td>\n",
              "      <td>(ground beef, mineral water)</td>\n",
              "      <td>0.229565</td>\n",
              "      <td>0.058744</td>\n",
              "      <td>0.024734</td>\n",
              "      <td>0.107744</td>\n",
              "      <td>1.834131</td>\n",
              "      <td>1.0</td>\n",
              "      <td>0.011249</td>\n",
              "      <td>1.054917</td>\n",
              "      <td>0.590293</td>\n",
              "      <td>0.093842</td>\n",
              "      <td>0.052058</td>\n",
              "      <td>0.264398</td>\n",
              "    </tr>\n",
              "    <tr>\n",
              "      <th>206</th>\n",
              "      <td>(ground beef, mineral water)</td>\n",
              "      <td>(spaghetti)</td>\n",
              "      <td>0.058744</td>\n",
              "      <td>0.229565</td>\n",
              "      <td>0.024734</td>\n",
              "      <td>0.421053</td>\n",
              "      <td>1.834131</td>\n",
              "      <td>1.0</td>\n",
              "      <td>0.011249</td>\n",
              "      <td>1.330751</td>\n",
              "      <td>0.483166</td>\n",
              "      <td>0.093842</td>\n",
              "      <td>0.248545</td>\n",
              "      <td>0.264398</td>\n",
              "    </tr>\n",
              "  </tbody>\n",
              "</table>\n",
              "</div>\n",
              "    <div class=\"colab-df-buttons\">\n",
              "\n",
              "  <div class=\"colab-df-container\">\n",
              "    <button class=\"colab-df-convert\" onclick=\"convertToInteractive('df-1c79ae0f-a40a-4364-856c-56c980e2eded')\"\n",
              "            title=\"Convert this dataframe to an interactive table.\"\n",
              "            style=\"display:none;\">\n",
              "\n",
              "  <svg xmlns=\"http://www.w3.org/2000/svg\" height=\"24px\" viewBox=\"0 -960 960 960\">\n",
              "    <path d=\"M120-120v-720h720v720H120Zm60-500h600v-160H180v160Zm220 220h160v-160H400v160Zm0 220h160v-160H400v160ZM180-400h160v-160H180v160Zm440 0h160v-160H620v160ZM180-180h160v-160H180v160Zm440 0h160v-160H620v160Z\"/>\n",
              "  </svg>\n",
              "    </button>\n",
              "\n",
              "  <style>\n",
              "    .colab-df-container {\n",
              "      display:flex;\n",
              "      gap: 12px;\n",
              "    }\n",
              "\n",
              "    .colab-df-convert {\n",
              "      background-color: #E8F0FE;\n",
              "      border: none;\n",
              "      border-radius: 50%;\n",
              "      cursor: pointer;\n",
              "      display: none;\n",
              "      fill: #1967D2;\n",
              "      height: 32px;\n",
              "      padding: 0 0 0 0;\n",
              "      width: 32px;\n",
              "    }\n",
              "\n",
              "    .colab-df-convert:hover {\n",
              "      background-color: #E2EBFA;\n",
              "      box-shadow: 0px 1px 2px rgba(60, 64, 67, 0.3), 0px 1px 3px 1px rgba(60, 64, 67, 0.15);\n",
              "      fill: #174EA6;\n",
              "    }\n",
              "\n",
              "    .colab-df-buttons div {\n",
              "      margin-bottom: 4px;\n",
              "    }\n",
              "\n",
              "    [theme=dark] .colab-df-convert {\n",
              "      background-color: #3B4455;\n",
              "      fill: #D2E3FC;\n",
              "    }\n",
              "\n",
              "    [theme=dark] .colab-df-convert:hover {\n",
              "      background-color: #434B5C;\n",
              "      box-shadow: 0px 1px 3px 1px rgba(0, 0, 0, 0.15);\n",
              "      filter: drop-shadow(0px 1px 2px rgba(0, 0, 0, 0.3));\n",
              "      fill: #FFFFFF;\n",
              "    }\n",
              "  </style>\n",
              "\n",
              "    <script>\n",
              "      const buttonEl =\n",
              "        document.querySelector('#df-1c79ae0f-a40a-4364-856c-56c980e2eded button.colab-df-convert');\n",
              "      buttonEl.style.display =\n",
              "        google.colab.kernel.accessAllowed ? 'block' : 'none';\n",
              "\n",
              "      async function convertToInteractive(key) {\n",
              "        const element = document.querySelector('#df-1c79ae0f-a40a-4364-856c-56c980e2eded');\n",
              "        const dataTable =\n",
              "          await google.colab.kernel.invokeFunction('convertToInteractive',\n",
              "                                                    [key], {});\n",
              "        if (!dataTable) return;\n",
              "\n",
              "        const docLinkHtml = 'Like what you see? Visit the ' +\n",
              "          '<a target=\"_blank\" href=https://colab.research.google.com/notebooks/data_table.ipynb>data table notebook</a>'\n",
              "          + ' to learn more about interactive tables.';\n",
              "        element.innerHTML = '';\n",
              "        dataTable['output_type'] = 'display_data';\n",
              "        await google.colab.output.renderOutput(dataTable, element);\n",
              "        const docLink = document.createElement('div');\n",
              "        docLink.innerHTML = docLinkHtml;\n",
              "        element.appendChild(docLink);\n",
              "      }\n",
              "    </script>\n",
              "  </div>\n",
              "\n",
              "\n",
              "<div id=\"df-e7e62403-584f-48f9-a523-498fd842fe2a\">\n",
              "  <button class=\"colab-df-quickchart\" onclick=\"quickchart('df-e7e62403-584f-48f9-a523-498fd842fe2a')\"\n",
              "            title=\"Suggest charts\"\n",
              "            style=\"display:none;\">\n",
              "\n",
              "<svg xmlns=\"http://www.w3.org/2000/svg\" height=\"24px\"viewBox=\"0 0 24 24\"\n",
              "     width=\"24px\">\n",
              "    <g>\n",
              "        <path d=\"M19 3H5c-1.1 0-2 .9-2 2v14c0 1.1.9 2 2 2h14c1.1 0 2-.9 2-2V5c0-1.1-.9-2-2-2zM9 17H7v-7h2v7zm4 0h-2V7h2v10zm4 0h-2v-4h2v4z\"/>\n",
              "    </g>\n",
              "</svg>\n",
              "  </button>\n",
              "\n",
              "<style>\n",
              "  .colab-df-quickchart {\n",
              "      --bg-color: #E8F0FE;\n",
              "      --fill-color: #1967D2;\n",
              "      --hover-bg-color: #E2EBFA;\n",
              "      --hover-fill-color: #174EA6;\n",
              "      --disabled-fill-color: #AAA;\n",
              "      --disabled-bg-color: #DDD;\n",
              "  }\n",
              "\n",
              "  [theme=dark] .colab-df-quickchart {\n",
              "      --bg-color: #3B4455;\n",
              "      --fill-color: #D2E3FC;\n",
              "      --hover-bg-color: #434B5C;\n",
              "      --hover-fill-color: #FFFFFF;\n",
              "      --disabled-bg-color: #3B4455;\n",
              "      --disabled-fill-color: #666;\n",
              "  }\n",
              "\n",
              "  .colab-df-quickchart {\n",
              "    background-color: var(--bg-color);\n",
              "    border: none;\n",
              "    border-radius: 50%;\n",
              "    cursor: pointer;\n",
              "    display: none;\n",
              "    fill: var(--fill-color);\n",
              "    height: 32px;\n",
              "    padding: 0;\n",
              "    width: 32px;\n",
              "  }\n",
              "\n",
              "  .colab-df-quickchart:hover {\n",
              "    background-color: var(--hover-bg-color);\n",
              "    box-shadow: 0 1px 2px rgba(60, 64, 67, 0.3), 0 1px 3px 1px rgba(60, 64, 67, 0.15);\n",
              "    fill: var(--button-hover-fill-color);\n",
              "  }\n",
              "\n",
              "  .colab-df-quickchart-complete:disabled,\n",
              "  .colab-df-quickchart-complete:disabled:hover {\n",
              "    background-color: var(--disabled-bg-color);\n",
              "    fill: var(--disabled-fill-color);\n",
              "    box-shadow: none;\n",
              "  }\n",
              "\n",
              "  .colab-df-spinner {\n",
              "    border: 2px solid var(--fill-color);\n",
              "    border-color: transparent;\n",
              "    border-bottom-color: var(--fill-color);\n",
              "    animation:\n",
              "      spin 1s steps(1) infinite;\n",
              "  }\n",
              "\n",
              "  @keyframes spin {\n",
              "    0% {\n",
              "      border-color: transparent;\n",
              "      border-bottom-color: var(--fill-color);\n",
              "      border-left-color: var(--fill-color);\n",
              "    }\n",
              "    20% {\n",
              "      border-color: transparent;\n",
              "      border-left-color: var(--fill-color);\n",
              "      border-top-color: var(--fill-color);\n",
              "    }\n",
              "    30% {\n",
              "      border-color: transparent;\n",
              "      border-left-color: var(--fill-color);\n",
              "      border-top-color: var(--fill-color);\n",
              "      border-right-color: var(--fill-color);\n",
              "    }\n",
              "    40% {\n",
              "      border-color: transparent;\n",
              "      border-right-color: var(--fill-color);\n",
              "      border-top-color: var(--fill-color);\n",
              "    }\n",
              "    60% {\n",
              "      border-color: transparent;\n",
              "      border-right-color: var(--fill-color);\n",
              "    }\n",
              "    80% {\n",
              "      border-color: transparent;\n",
              "      border-right-color: var(--fill-color);\n",
              "      border-bottom-color: var(--fill-color);\n",
              "    }\n",
              "    90% {\n",
              "      border-color: transparent;\n",
              "      border-bottom-color: var(--fill-color);\n",
              "    }\n",
              "  }\n",
              "</style>\n",
              "\n",
              "  <script>\n",
              "    async function quickchart(key) {\n",
              "      const quickchartButtonEl =\n",
              "        document.querySelector('#' + key + ' button');\n",
              "      quickchartButtonEl.disabled = true;  // To prevent multiple clicks.\n",
              "      quickchartButtonEl.classList.add('colab-df-spinner');\n",
              "      try {\n",
              "        const charts = await google.colab.kernel.invokeFunction(\n",
              "            'suggestCharts', [key], {});\n",
              "      } catch (error) {\n",
              "        console.error('Error during call to suggestCharts:', error);\n",
              "      }\n",
              "      quickchartButtonEl.classList.remove('colab-df-spinner');\n",
              "      quickchartButtonEl.classList.add('colab-df-quickchart-complete');\n",
              "    }\n",
              "    (() => {\n",
              "      let quickchartButtonEl =\n",
              "        document.querySelector('#df-e7e62403-584f-48f9-a523-498fd842fe2a button');\n",
              "      quickchartButtonEl.style.display =\n",
              "        google.colab.kernel.accessAllowed ? 'block' : 'none';\n",
              "    })();\n",
              "  </script>\n",
              "</div>\n",
              "\n",
              "    </div>\n",
              "  </div>\n"
            ],
            "application/vnd.google.colaboratory.intrinsic+json": {
              "type": "dataframe",
              "summary": "{\n  \"name\": \"rules\",\n  \"rows\": 10,\n  \"fields\": [\n    {\n      \"column\": \"antecedents\",\n      \"properties\": {\n        \"dtype\": \"string\",\n        \"num_unique_values\": 8,\n        \"samples\": [\n          \"frozenset({'herb & pepper'})\",\n          \"frozenset({'shrimp'})\",\n          \"frozenset({'ground beef'})\"\n        ],\n        \"semantic_type\": \"\",\n        \"description\": \"\"\n      }\n    },\n    {\n      \"column\": \"consequents\",\n      \"properties\": {\n        \"dtype\": \"string\",\n        \"num_unique_values\": 8,\n        \"samples\": [\n          \"frozenset({'ground beef'})\",\n          \"frozenset({'shrimp'})\",\n          \"frozenset({'herb & pepper'})\"\n        ],\n        \"semantic_type\": \"\",\n        \"description\": \"\"\n      }\n    },\n    {\n      \"column\": \"antecedent support\",\n      \"properties\": {\n        \"dtype\": \"number\",\n        \"std\": 0.04902791584560099,\n        \"min\": 0.058743961352657005,\n        \"max\": 0.22956521739130434,\n        \"num_unique_values\": 8,\n        \"samples\": [\n          0.06647342995169082,\n          0.098743961352657,\n          0.13584541062801933\n        ],\n        \"semantic_type\": \"\",\n        \"description\": \"\"\n      }\n    },\n    {\n      \"column\": \"consequent support\",\n      \"properties\": {\n        \"dtype\": \"number\",\n        \"std\": 0.04902791584560099,\n        \"min\": 0.058743961352657005,\n        \"max\": 0.22956521739130434,\n        \"num_unique_values\": 8,\n        \"samples\": [\n          0.13584541062801933,\n          0.098743961352657,\n          0.06647342995169082\n        ],\n        \"semantic_type\": \"\",\n        \"description\": \"\"\n      }\n    },\n    {\n      \"column\": \"support\",\n      \"properties\": {\n        \"dtype\": \"number\",\n        \"std\": 0.0009588557328658749,\n        \"min\": 0.022608695652173914,\n        \"max\": 0.024734299516908212,\n        \"num_unique_values\": 4,\n        \"samples\": [\n          0.024734299516908212,\n          0.023768115942028985,\n          0.02280193236714976\n        ],\n        \"semantic_type\": \"\",\n        \"description\": \"\"\n      }\n    },\n    {\n      \"column\": \"confidence\",\n      \"properties\": {\n        \"dtype\": \"number\",\n        \"std\": 0.093966661765845,\n        \"min\": 0.10774410774410774,\n        \"max\": 0.42105263157894735,\n        \"num_unique_values\": 10,\n        \"samples\": [\n          0.10774410774410774,\n          0.3430232558139535,\n          0.17410714285714285\n        ],\n        \"semantic_type\": \"\",\n        \"description\": \"\"\n      }\n    },\n    {\n      \"column\": \"lift\",\n      \"properties\": {\n        \"dtype\": \"number\",\n        \"std\": 0.2764591354447181,\n        \"min\": 1.8341307814992025,\n        \"max\": 2.5251000694697145,\n        \"num_unique_values\": 6,\n        \"samples\": [\n          2.5251000694697145,\n          2.1414716151558255,\n          1.8341307814992025\n        ],\n        \"semantic_type\": \"\",\n        \"description\": \"\"\n      }\n    },\n    {\n      \"column\": \"representativity\",\n      \"properties\": {\n        \"dtype\": \"number\",\n        \"std\": 0.0,\n        \"min\": 1.0,\n        \"max\": 1.0,\n        \"num_unique_values\": 1,\n        \"samples\": [\n          1.0\n        ],\n        \"semantic_type\": \"\",\n        \"description\": \"\"\n      }\n    },\n    {\n      \"column\": \"leverage\",\n      \"properties\": {\n        \"dtype\": \"number\",\n        \"std\": 0.001332843718094597,\n        \"min\": 0.01066453826226983,\n        \"max\": 0.01377182197950944,\n        \"num_unique_values\": 5,\n        \"samples\": [\n          0.01318415832341478\n        ],\n        \"semantic_type\": \"\",\n        \"description\": \"\"\n      }\n    },\n    {\n      \"column\": \"conviction\",\n      \"properties\": {\n        \"dtype\": \"number\",\n        \"std\": 0.09290546979821403,\n        \"min\": 1.0549171452009842,\n        \"max\": 1.3307509881422925,\n        \"num_unique_values\": 10,\n        \"samples\": [\n          1.0549171452009842\n        ],\n        \"semantic_type\": \"\",\n        \"description\": \"\"\n      }\n    },\n    {\n      \"column\": \"zhangs_metric\",\n      \"properties\": {\n        \"dtype\": \"number\",\n        \"std\": 0.06772704639090815,\n        \"min\": 0.4831656743995073,\n        \"max\": 0.6989213486552864,\n        \"num_unique_values\": 10,\n        \"samples\": [\n          0.590293453724605\n        ],\n        \"semantic_type\": \"\",\n        \"description\": \"\"\n      }\n    },\n    {\n      \"column\": \"jaccard\",\n      \"properties\": {\n        \"dtype\": \"number\",\n        \"std\": 0.012635485811834513,\n        \"min\": 0.093841642228739,\n        \"max\": 0.1270182992465016,\n        \"num_unique_values\": 5,\n        \"samples\": [\n          0.12610837438423644\n        ],\n        \"semantic_type\": \"\",\n        \"description\": \"\"\n      }\n    },\n    {\n      \"column\": \"certainty\",\n      \"properties\": {\n        \"dtype\": \"number\",\n        \"std\": 0.06492209731829048,\n        \"min\": 0.05205825448075499,\n        \"max\": 0.2485446120945705,\n        \"num_unique_values\": 10,\n        \"samples\": [\n          0.05205825448075499\n        ],\n        \"semantic_type\": \"\",\n        \"description\": \"\"\n      }\n    },\n    {\n      \"column\": \"kulczynski\",\n      \"properties\": {\n        \"dtype\": \"number\",\n        \"std\": 0.023307422593993047,\n        \"min\": 0.20995273109243698,\n        \"max\": 0.2643983696615275,\n        \"num_unique_values\": 5,\n        \"samples\": [\n          0.23649295228242595\n        ],\n        \"semantic_type\": \"\",\n        \"description\": \"\"\n      }\n    }\n  ]\n}"
            }
          },
          "metadata": {},
          "execution_count": 29
        }
      ]
    },
    {
      "cell_type": "code",
      "source": [
        "# Display top 10 rules\n",
        "print(\"\\nTop 10 Association Rules:\\n\", rules_sorted.head(10))"
      ],
      "metadata": {
        "colab": {
          "base_uri": "https://localhost:8080/"
        },
        "id": "3rg7DLxlCzIM",
        "outputId": "b442627c-224c-46e4-f4cb-8e6165d3641c"
      },
      "execution_count": 30,
      "outputs": [
        {
          "output_type": "stream",
          "name": "stdout",
          "text": [
            "\n",
            "Top 10 Association Rules:\n",
            "                       antecedents          consequents  antecedent support  \\\n",
            "75                (herb & pepper)        (ground beef)            0.066473   \n",
            "120    (spaghetti, mineral water)        (ground beef)            0.085024   \n",
            "70                     (tomatoes)  (frozen vegetables)            0.091981   \n",
            "68                       (shrimp)  (frozen vegetables)            0.098744   \n",
            "121  (ground beef, mineral water)          (spaghetti)            0.058744   \n",
            "80                  (ground beef)          (spaghetti)            0.135845   \n",
            "79                    (spaghetti)        (ground beef)            0.229565   \n",
            "90                         (soup)               (milk)            0.070918   \n",
            "78                    (olive oil)        (ground beef)            0.087536   \n",
            "88                    (olive oil)               (milk)            0.087536   \n",
            "\n",
            "     consequent support   support  confidence      lift  representativity  \\\n",
            "75             0.135845  0.022802    0.343023  2.525100               1.0   \n",
            "120            0.135845  0.024734    0.290909  2.141472               1.0   \n",
            "70             0.129855  0.022609    0.245798  1.892867               1.0   \n",
            "68             0.129855  0.023768    0.240705  1.853640               1.0   \n",
            "121            0.229565  0.024734    0.421053  1.834131               1.0   \n",
            "80             0.229565  0.055845    0.411095  1.790756               1.0   \n",
            "79             0.135845  0.055845    0.243266  1.790756               1.0   \n",
            "90             0.170048  0.021449    0.302452  1.778626               1.0   \n",
            "78             0.135845  0.020290    0.231788  1.706264               1.0   \n",
            "88             0.170048  0.024155    0.275938  1.622705               1.0   \n",
            "\n",
            "     leverage  conviction  zhangs_metric   jaccard  certainty  kulczynski  \n",
            "75   0.013772    1.315350       0.646983  0.127018   0.239746    0.255438  \n",
            "120  0.013184    1.218680       0.582563  0.126108   0.179440    0.236493  \n",
            "70   0.010665    1.153730       0.519483  0.113482   0.133246    0.209953  \n",
            "68   0.010946    1.145990       0.510977  0.116038   0.127392    0.211870  \n",
            "121  0.011249    1.330751       0.483166  0.093842   0.248545    0.264398  \n",
            "80   0.024660    1.308250       0.510993  0.180400   0.235620    0.327181  \n",
            "79   0.024660    1.141953       0.573153  0.180400   0.124307    0.327181  \n",
            "90   0.009390    1.189814       0.471184  0.097711   0.159532    0.214294  \n",
            "78   0.008398    1.124891       0.453633  0.099905   0.111025    0.190574  \n",
            "88   0.009269    1.146244       0.420559  0.103477   0.127586    0.208992  \n"
          ]
        }
      ]
    },
    {
      "cell_type": "markdown",
      "source": [
        "# Analyze results"
      ],
      "metadata": {
        "id": "dV31qR1GLFtX"
      }
    },
    {
      "cell_type": "code",
      "source": [
        "# Analysis and Interpretation\n",
        "\n",
        "# Plot Top 10 Lift values\n",
        "plt.figure(figsize=(10,5))\n",
        "sns.barplot(x=rules_sorted[\"lift\"].head(10), y=rules_sorted[\"antecedents\"].head(10).astype(str))\n",
        "plt.xlabel(\"Lift\")\n",
        "plt.ylabel(\"Item Combination\")\n",
        "plt.title(\"Top 10 Strongest Association Rules (by Lift)\")\n",
        "plt.show()"
      ],
      "metadata": {
        "colab": {
          "base_uri": "https://localhost:8080/",
          "height": 487
        },
        "id": "7tYWi5SrGs1x",
        "outputId": "0059a87b-a0e5-47e5-8e3a-c94081307cdf"
      },
      "execution_count": 32,
      "outputs": [
        {
          "output_type": "display_data",
          "data": {
            "text/plain": [
              "<Figure size 1000x500 with 1 Axes>"
            ],
            "image/png": "[encoded data removed]"
          },
          "metadata": {}
        }
      ]
    },
    {
      "cell_type": "markdown",
      "source": [
        "# Answer interview questions"
      ],
      "metadata": {
        "id": "-q3qHW3CLJqt"
      }
    },
    {
      "cell_type": "code",
      "source": [
        "# Interview Questions - Answers\n",
        "\n",
        "print(\"\\nInterview Questions and Answers:\")\n",
        "\n",
        "# 1. What is Lift and why is it important?\n",
        "print(\"\\n1. What is Lift and why is it important?\")\n",
        "print(\"Lift measures how much more likely two items are to be bought together compared to random chance.\")\n",
        "print(\"A lift >1 indicates a strong positive association, while a lift <1 means items are negatively related.\")\n",
        "print(\"It helps in identifying strong associations that are not just due to high frequency.\")\n",
        "\n",
        "# 2. What is Support and Confidence? How do you calculate them?\n",
        "print(\"\\n2. What is Support and Confidence? How do you calculate them?\")\n",
        "print(\"Support: Percentage of transactions containing the item(s). Formula: Support = (Frequency of itemset) / (Total transactions)\")\n",
        "print(\"Confidence: Probability that item Y is purchased when item X is purchased. Formula: Confidence = (Support of X & Y) / (Support of X)\")\n",
        "\n",
        "# 3. What are some limitations or challenges of Association Rule Mining?\n",
        "print(\"\\n3. What are some limitations or challenges of Association Rule Mining?\")\n",
        "print(\"- Computational Complexity: Large datasets increase processing time significantly.\")\n",
        "print(\"- Setting Thresholds: Choosing the right support and confidence values is challenging.\")\n",
        "print(\"- Redundant Rules: Many generated rules might not provide new insights.\")"
      ],
      "metadata": {
        "colab": {
          "base_uri": "https://localhost:8080/"
        },
        "id": "uQuamL9rIumI",
        "outputId": "793a3654-203d-4dd7-af80-cf5ebd696ba5"
      },
      "execution_count": 36,
      "outputs": [
        {
          "output_type": "stream",
          "name": "stdout",
          "text": [
            "\n",
            "Interview Questions and Answers:\n",
            "\n",
            "1. What is Lift and why is it important?\n",
            "Lift measures how much more likely two items are to be bought together compared to random chance.\n",
            "A lift >1 indicates a strong positive association, while a lift <1 means items are negatively related.\n",
            "It helps in identifying strong associations that are not just due to high frequency.\n",
            "\n",
            "2. What is Support and Confidence? How do you calculate them?\n",
            "Support: Percentage of transactions containing the item(s). Formula: Support = (Frequency of itemset) / (Total transactions)\n",
            "Confidence: Probability that item Y is purchased when item X is purchased. Formula: Confidence = (Support of X & Y) / (Support of X)\n",
            "\n",
            "3. What are some limitations or challenges of Association Rule Mining?\n",
            "- Computational Complexity: Large datasets increase processing time significantly.\n",
            "- Setting Thresholds: Choosing the right support and confidence values is challenging.\n",
            "- Redundant Rules: Many generated rules might not provide new insights.\n"
          ]
        }
      ]
    },
    {
      "cell_type": "code",
      "source": [],
      "metadata": {
        "id": "5M-vMgd3I4Yo"
      },
      "execution_count": null,
      "outputs": []
    }
  ]
}